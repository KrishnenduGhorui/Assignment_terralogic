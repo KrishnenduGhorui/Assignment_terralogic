{
 "cells": [
  {
   "cell_type": "code",
   "execution_count": 11,
   "id": "1e0b02dd",
   "metadata": {},
   "outputs": [
    {
     "name": "stdout",
     "output_type": "stream",
     "text": [
      "Collecting gensim\n",
      "  Downloading gensim-4.2.0-cp39-cp39-win_amd64.whl (23.9 MB)\n",
      "Collecting smart-open>=1.8.1\n",
      "  Downloading smart_open-6.0.0-py3-none-any.whl (58 kB)\n",
      "Requirement already satisfied: numpy>=1.17.0 in c:\\users\\krishnendughorui\\anaconda3\\lib\\site-packages (from gensim) (1.20.3)\n",
      "Collecting Cython==0.29.28\n",
      "  Downloading Cython-0.29.28-py2.py3-none-any.whl (983 kB)\n",
      "Requirement already satisfied: scipy>=0.18.1 in c:\\users\\krishnendughorui\\anaconda3\\lib\\site-packages (from gensim) (1.7.1)\n",
      "Installing collected packages: smart-open, Cython, gensim\n",
      "  Attempting uninstall: Cython\n",
      "    Found existing installation: Cython 0.29.24\n",
      "    Uninstalling Cython-0.29.24:\n",
      "      Successfully uninstalled Cython-0.29.24\n",
      "Successfully installed Cython-0.29.28 gensim-4.2.0 smart-open-6.0.0\n",
      "Note: you may need to restart the kernel to use updated packages.\n"
     ]
    }
   ],
   "source": [
    "pip install gensim"
   ]
  },
  {
   "cell_type": "code",
   "execution_count": 12,
   "id": "de71415d",
   "metadata": {},
   "outputs": [],
   "source": [
    "import nltk\n",
    "import gensim"
   ]
  },
  {
   "cell_type": "code",
   "execution_count": 30,
   "id": "86bde42b",
   "metadata": {},
   "outputs": [],
   "source": [
    "Texts=\"They live in a beautiful house. Lisa is wearing a sleeveless shirt today. This soup is not edible. She wore a beautiful dress. He writes meaningless letters. This shop is much nicer. She wore a beautiful dress. Ben is an adorable baby. Linda’s hair is gorgeous. This glass is breakable. I met a homeless person in NY. This house is bigger than that one. This flower is more beautiful than that. He is taller than Hulas. He is more intelligent than this boy. Jonathan is the most handsome man on campus. This is the prettiest dress in the window. I lost my most comfortable shoes. My job is worse than yours. Susan is really clever. The doctor is very late. My sister is fond of animals. I am happy to meet you. The kids are ready to go. Don’t be afraid of the dark. Tony lost his dark brown briefcase.He’s an extraordinary looking man.The kittens were unimpressed. The sky was multicolored. The stove is very clean. We watched the scariest movie yesterday. He had a blue bike in his yard. He was carrying four flowers. The mean dog growled at the mailman. I have a messy desk.\""
   ]
  },
  {
   "cell_type": "code",
   "execution_count": 31,
   "id": "4cbf159d",
   "metadata": {},
   "outputs": [
    {
     "data": {
      "text/plain": [
       "'They live in a beautiful house. Lisa is wearing a sleeveless shirt today. This soup is not edible. She wore a beautiful dress. He writes meaningless letters. This shop is much nicer. She wore a beautiful dress. Ben is an adorable baby. Linda’s hair is gorgeous. This glass is breakable. I met a homeless person in NY. This house is bigger than that one. This flower is more beautiful than that. He is taller than Hulas. He is more intelligent than this boy. Jonathan is the most handsome man on campus. This is the prettiest dress in the window. I lost my most comfortable shoes. My job is worse than yours. Susan is really clever. The doctor is very late. My sister is fond of animals. I am happy to meet you. The kids are ready to go. Don’t be afraid of the dark. Tony lost his dark brown briefcase.He’s an extraordinary looking man.The kittens were unimpressed. The sky was multicolored. The stove is very clean. We watched the scariest movie yesterday. He had a blue bike in his yard. He was carrying four flowers. The mean dog growled at the mailman. I have a messy desk.'"
      ]
     },
     "execution_count": 31,
     "metadata": {},
     "output_type": "execute_result"
    }
   ],
   "source": [
    "Texts"
   ]
  },
  {
   "cell_type": "markdown",
   "id": "9d01cb24",
   "metadata": {},
   "source": [
    "###### Sentence tokenization"
   ]
  },
  {
   "cell_type": "code",
   "execution_count": 32,
   "id": "31f78b5a",
   "metadata": {},
   "outputs": [
    {
     "data": {
      "text/plain": [
       "['They live in a beautiful house.',\n",
       " 'Lisa is wearing a sleeveless shirt today.',\n",
       " 'This soup is not edible.',\n",
       " 'She wore a beautiful dress.',\n",
       " 'He writes meaningless letters.',\n",
       " 'This shop is much nicer.',\n",
       " 'She wore a beautiful dress.',\n",
       " 'Ben is an adorable baby.',\n",
       " 'Linda’s hair is gorgeous.',\n",
       " 'This glass is breakable.',\n",
       " 'I met a homeless person in NY.',\n",
       " 'This house is bigger than that one.',\n",
       " 'This flower is more beautiful than that.',\n",
       " 'He is taller than Hulas.',\n",
       " 'He is more intelligent than this boy.',\n",
       " 'Jonathan is the most handsome man on campus.',\n",
       " 'This is the prettiest dress in the window.',\n",
       " 'I lost my most comfortable shoes.',\n",
       " 'My job is worse than yours.',\n",
       " 'Susan is really clever.',\n",
       " 'The doctor is very late.',\n",
       " 'My sister is fond of animals.',\n",
       " 'I am happy to meet you.',\n",
       " 'The kids are ready to go.',\n",
       " 'Don’t be afraid of the dark.',\n",
       " 'Tony lost his dark brown briefcase.He’s an extraordinary looking man.The kittens were unimpressed.',\n",
       " 'The sky was multicolored.',\n",
       " 'The stove is very clean.',\n",
       " 'We watched the scariest movie yesterday.',\n",
       " 'He had a blue bike in his yard.',\n",
       " 'He was carrying four flowers.',\n",
       " 'The mean dog growled at the mailman.',\n",
       " 'I have a messy desk.']"
      ]
     },
     "execution_count": 32,
     "metadata": {},
     "output_type": "execute_result"
    }
   ],
   "source": [
    "Texts=nltk.sent_tokenize(Texts)\n",
    "Texts"
   ]
  },
  {
   "cell_type": "markdown",
   "id": "b8580876",
   "metadata": {},
   "source": [
    "word tokenization"
   ]
  },
  {
   "cell_type": "code",
   "execution_count": 33,
   "id": "9096063d",
   "metadata": {},
   "outputs": [
    {
     "data": {
      "text/plain": [
       "[['They', 'live', 'in', 'a', 'beautiful', 'house', '.'],\n",
       " ['Lisa', 'is', 'wearing', 'a', 'sleeveless', 'shirt', 'today', '.'],\n",
       " ['This', 'soup', 'is', 'not', 'edible', '.'],\n",
       " ['She', 'wore', 'a', 'beautiful', 'dress', '.'],\n",
       " ['He', 'writes', 'meaningless', 'letters', '.'],\n",
       " ['This', 'shop', 'is', 'much', 'nicer', '.'],\n",
       " ['She', 'wore', 'a', 'beautiful', 'dress', '.'],\n",
       " ['Ben', 'is', 'an', 'adorable', 'baby', '.'],\n",
       " ['Linda', '’', 's', 'hair', 'is', 'gorgeous', '.'],\n",
       " ['This', 'glass', 'is', 'breakable', '.'],\n",
       " ['I', 'met', 'a', 'homeless', 'person', 'in', 'NY', '.'],\n",
       " ['This', 'house', 'is', 'bigger', 'than', 'that', 'one', '.'],\n",
       " ['This', 'flower', 'is', 'more', 'beautiful', 'than', 'that', '.'],\n",
       " ['He', 'is', 'taller', 'than', 'Hulas', '.'],\n",
       " ['He', 'is', 'more', 'intelligent', 'than', 'this', 'boy', '.'],\n",
       " ['Jonathan', 'is', 'the', 'most', 'handsome', 'man', 'on', 'campus', '.'],\n",
       " ['This', 'is', 'the', 'prettiest', 'dress', 'in', 'the', 'window', '.'],\n",
       " ['I', 'lost', 'my', 'most', 'comfortable', 'shoes', '.'],\n",
       " ['My', 'job', 'is', 'worse', 'than', 'yours', '.'],\n",
       " ['Susan', 'is', 'really', 'clever', '.'],\n",
       " ['The', 'doctor', 'is', 'very', 'late', '.'],\n",
       " ['My', 'sister', 'is', 'fond', 'of', 'animals', '.'],\n",
       " ['I', 'am', 'happy', 'to', 'meet', 'you', '.'],\n",
       " ['The', 'kids', 'are', 'ready', 'to', 'go', '.'],\n",
       " ['Don', '’', 't', 'be', 'afraid', 'of', 'the', 'dark', '.'],\n",
       " ['Tony',\n",
       "  'lost',\n",
       "  'his',\n",
       "  'dark',\n",
       "  'brown',\n",
       "  'briefcase.He',\n",
       "  '’',\n",
       "  's',\n",
       "  'an',\n",
       "  'extraordinary',\n",
       "  'looking',\n",
       "  'man.The',\n",
       "  'kittens',\n",
       "  'were',\n",
       "  'unimpressed',\n",
       "  '.'],\n",
       " ['The', 'sky', 'was', 'multicolored', '.'],\n",
       " ['The', 'stove', 'is', 'very', 'clean', '.'],\n",
       " ['We', 'watched', 'the', 'scariest', 'movie', 'yesterday', '.'],\n",
       " ['He', 'had', 'a', 'blue', 'bike', 'in', 'his', 'yard', '.'],\n",
       " ['He', 'was', 'carrying', 'four', 'flowers', '.'],\n",
       " ['The', 'mean', 'dog', 'growled', 'at', 'the', 'mailman', '.'],\n",
       " ['I', 'have', 'a', 'messy', 'desk', '.']]"
      ]
     },
     "execution_count": 33,
     "metadata": {},
     "output_type": "execute_result"
    }
   ],
   "source": [
    "for i in range(len(Texts)):\n",
    "    Texts[i]=nltk.word_tokenize(Texts[i])\n",
    "\n",
    "Texts"
   ]
  },
  {
   "cell_type": "markdown",
   "id": "e6380dec",
   "metadata": {},
   "source": [
    "Building and training Word2Vec model on text data"
   ]
  },
  {
   "cell_type": "code",
   "execution_count": 13,
   "id": "1338ad4f",
   "metadata": {},
   "outputs": [],
   "source": [
    "from gensim.models import Word2Vec\n",
    "import warnings\n",
    "warnings.filterwarnings('ignore')"
   ]
  },
  {
   "cell_type": "code",
   "execution_count": 34,
   "id": "c9105979",
   "metadata": {},
   "outputs": [],
   "source": [
    "model=Word2Vec(window=2,min_count=1,workers=3,vector_size=50)"
   ]
  },
  {
   "cell_type": "code",
   "execution_count": 35,
   "id": "b65de9e6",
   "metadata": {},
   "outputs": [],
   "source": [
    "model.build_vocab(Texts)"
   ]
  },
  {
   "cell_type": "code",
   "execution_count": 36,
   "id": "64545591",
   "metadata": {},
   "outputs": [
    {
     "data": {
      "text/plain": [
       "(564, 1180)"
      ]
     },
     "execution_count": 36,
     "metadata": {},
     "output_type": "execute_result"
    }
   ],
   "source": [
    "model.train(corpus_iterable=Texts,total_examples=model.corpus_count,epochs=model.epochs)"
   ]
  },
  {
   "cell_type": "code",
   "execution_count": 42,
   "id": "d6ff92d9",
   "metadata": {},
   "outputs": [
    {
     "data": {
      "text/plain": [
       "[('hair', 0.32572129368782043),\n",
       " ('Don', 0.28565287590026855),\n",
       " ('Jonathan', 0.2581152021884918),\n",
       " ('I', 0.2379191368818283),\n",
       " ('go', 0.23506814241409302),\n",
       " ('Tony', 0.22656844556331635),\n",
       " ('flowers', 0.2090986967086792),\n",
       " ('not', 0.19616346061229706),\n",
       " ('worse', 0.18686212599277496),\n",
       " ('baby', 0.18477128446102142),\n",
       " ('extraordinary', 0.1792118102312088),\n",
       " ('than', 0.1702737957239151),\n",
       " ('am', 0.16779984533786774),\n",
       " ('prettiest', 0.16631989181041718),\n",
       " ('his', 0.16598932445049286),\n",
       " ('wearing', 0.16413122415542603),\n",
       " ('at', 0.16307730972766876),\n",
       " ('intelligent', 0.16188007593154907),\n",
       " ('kids', 0.15904387831687927),\n",
       " ('carrying', 0.15117886662483215),\n",
       " ('dog', 0.14980465173721313),\n",
       " ('ready', 0.13700886070728302),\n",
       " ('letters', 0.13232606649398804),\n",
       " ('a', 0.12308301776647568),\n",
       " ('watched', 0.11704711616039276),\n",
       " ('very', 0.10852301865816116),\n",
       " ('late', 0.10614373534917831),\n",
       " ('bigger', 0.0953221544623375),\n",
       " ('s', 0.09513642638921738),\n",
       " ('animals', 0.09438086301088333)]"
      ]
     },
     "execution_count": 42,
     "metadata": {},
     "output_type": "execute_result"
    }
   ],
   "source": [
    "words=model.wv.most_similar('beautiful',topn=30)\n",
    "words"
   ]
  },
  {
   "cell_type": "code",
   "execution_count": 43,
   "id": "a78a0e43",
   "metadata": {},
   "outputs": [],
   "source": [
    "Adjectives_list=[]\n",
    "for i in range(len(words)):\n",
    "    Adjectives_list.append(words[i][0])\n",
    "    "
   ]
  },
  {
   "cell_type": "markdown",
   "id": "709b13c3",
   "metadata": {},
   "source": [
    "Getting adjectives presents in the texts "
   ]
  },
  {
   "cell_type": "code",
   "execution_count": 44,
   "id": "7ad1fa4a",
   "metadata": {},
   "outputs": [
    {
     "data": {
      "text/plain": [
       "['hair',\n",
       " 'Don',\n",
       " 'Jonathan',\n",
       " 'I',\n",
       " 'go',\n",
       " 'Tony',\n",
       " 'flowers',\n",
       " 'not',\n",
       " 'worse',\n",
       " 'baby',\n",
       " 'extraordinary',\n",
       " 'than',\n",
       " 'am',\n",
       " 'prettiest',\n",
       " 'his',\n",
       " 'wearing',\n",
       " 'at',\n",
       " 'intelligent',\n",
       " 'kids',\n",
       " 'carrying',\n",
       " 'dog',\n",
       " 'ready',\n",
       " 'letters',\n",
       " 'a',\n",
       " 'watched',\n",
       " 'very',\n",
       " 'late',\n",
       " 'bigger',\n",
       " 's',\n",
       " 'animals']"
      ]
     },
     "execution_count": 44,
     "metadata": {},
     "output_type": "execute_result"
    }
   ],
   "source": [
    "Adjectives_list"
   ]
  },
  {
   "cell_type": "code",
   "execution_count": null,
   "id": "253522ba",
   "metadata": {},
   "outputs": [],
   "source": []
  }
 ],
 "metadata": {
  "kernelspec": {
   "display_name": "Python 3 (ipykernel)",
   "language": "python",
   "name": "python3"
  },
  "language_info": {
   "codemirror_mode": {
    "name": "ipython",
    "version": 3
   },
   "file_extension": ".py",
   "mimetype": "text/x-python",
   "name": "python",
   "nbconvert_exporter": "python",
   "pygments_lexer": "ipython3",
   "version": "3.9.7"
  }
 },
 "nbformat": 4,
 "nbformat_minor": 5
}
